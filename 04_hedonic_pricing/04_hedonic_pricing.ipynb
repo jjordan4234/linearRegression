{
 "cells": [
  {
   "cell_type": "markdown",
   "metadata": {
    "vscode": {
     "languageId": "bat"
    }
   },
   "source": [
    "# Hedonic Pricing\n",
    "\n",
    "We often try to predict the price of an asset from its observable characteristics. This is generally called **hedonic pricing**: How do the unit's characteristics determine its market price?\n",
    "\n",
    "In the lab folder, there are three options: housing prices in pierce_county_house_sales.csv, car prices in cars_hw.csv, and airbnb rental prices in airbnb_hw.csv. If you know of another suitable dataset, please feel free to use that one.\n",
    "\n",
    "1. Clean the data and perform some EDA and visualization to get to know the data set.\n",
    "2. Transform your variables --- particularly categorical ones --- for use in your regression analysis.\n",
    "3. Implement an ~80/~20 train-test split. Put the test data aside.\n",
    "4. Build some simple linear models that include no transformations or interactions. Fit them, and determine their RMSE and $R^2$ on the both the training and test sets. Which of your models does the best?\n",
    "5. Include transformations and interactions, and build a more complex model that reflects your ideas about how the features of the asset determine its value. Determine its RMSE and $R^2$ on the training and test sets. How does the more complex model your build compare to the simpler ones?\n",
    "6. Summarize your results from 1 to 5. Have you learned anything about overfitting and underfitting, or model selection?\n",
    "7. If you have time, use the sklearn.linear_model.Lasso to regularize your model and select the most predictive features. Which does it select? What are the RMSE and $R^2$? We'll cover the Lasso later in detail in class.\n",
    "\n"
   ]
  },
  {
   "cell_type": "markdown",
   "metadata": {},
   "source": [
    "Clone in the git hub repo"
   ]
  },
  {
   "cell_type": "code",
   "execution_count": 12,
   "metadata": {},
   "outputs": [
    {
     "name": "stdout",
     "output_type": "stream",
     "text": [
      "fatal: destination path 'labs' already exists and is not an empty directory.\r\n"
     ]
    }
   ],
   "source": [
    "#! git clone https://github.com/DS3001/labs\n",
    "#don't know why it isn't showing up"
   ]
  },
  {
   "cell_type": "code",
   "execution_count": 13,
   "metadata": {},
   "outputs": [
    {
     "name": "stdout",
     "output_type": "stream",
     "text": [
      "\u001b[34m01_api_calls\u001b[m\u001b[m/       \u001b[34m02_scraping\u001b[m\u001b[m/        \u001b[34m03_computer_vision\u001b[m\u001b[m/ README.md\r\n"
     ]
    }
   ],
   "source": [
    "ls labs"
   ]
  },
  {
   "cell_type": "code",
   "execution_count": 148,
   "metadata": {},
   "outputs": [],
   "source": [
    "import pandas as pd\n",
    "import matplotlib.pyplot as plt\n",
    "import numpy as np"
   ]
  },
  {
   "cell_type": "markdown",
   "metadata": {},
   "source": [
    "Read in the csv as a df"
   ]
  },
  {
   "cell_type": "code",
   "execution_count": 70,
   "metadata": {},
   "outputs": [],
   "source": [
    "cars = pd.read_csv(\"/Users/johnjordan/Desktop/DS 3001/cars_hw.csv\")"
   ]
  },
  {
   "cell_type": "markdown",
   "metadata": {},
   "source": [
    "**1.) Clean the data and perform some EDA and visualization to get to know the data set.**"
   ]
  },
  {
   "cell_type": "markdown",
   "metadata": {},
   "source": [
    "a.) Find the column names"
   ]
  },
  {
   "cell_type": "code",
   "execution_count": 71,
   "metadata": {},
   "outputs": [
    {
     "data": {
      "text/plain": [
       "Index(['Unnamed: 0', 'Make', 'Make_Year', 'Color', 'Body_Type', 'Mileage_Run',\n",
       "       'No_of_Owners', 'Seating_Capacity', 'Fuel_Type', 'Transmission',\n",
       "       'Transmission_Type', 'Price'],\n",
       "      dtype='object')"
      ]
     },
     "execution_count": 71,
     "metadata": {},
     "output_type": "execute_result"
    }
   ],
   "source": [
    "cars.columns"
   ]
  },
  {
   "cell_type": "markdown",
   "metadata": {},
   "source": [
    "b.) Get summary stats of all of the columns"
   ]
  },
  {
   "cell_type": "code",
   "execution_count": 72,
   "metadata": {},
   "outputs": [],
   "source": [
    "def sum_stats (df):\n",
    "    print(df.head())\n",
    "    print(df.describe())\n",
    "    print(df.shape)\n",
    "    print(df.isnull().sum())"
   ]
  },
  {
   "cell_type": "code",
   "execution_count": 73,
   "metadata": {},
   "outputs": [
    {
     "name": "stdout",
     "output_type": "stream",
     "text": [
      "   Unnamed: 0        Make  Make_Year   Color  Body_Type  Mileage_Run  \\\n",
      "0           1  Volkswagen       2017  silver      sedan        44611   \n",
      "1           2     Hyundai       2016     red  crossover        20305   \n",
      "2           3       Honda       2019   white        suv        29540   \n",
      "3           4     Renault       2017  bronze  hatchback        35680   \n",
      "4           5     Hyundai       2017  orange  hatchback        25126   \n",
      "\n",
      "  No_of_Owners  Seating_Capacity Fuel_Type Transmission Transmission_Type  \\\n",
      "0          1st                 5    diesel      7-Speed         Automatic   \n",
      "1          1st                 5    petrol      5-Speed            Manual   \n",
      "2          2nd                 5    petrol      5-Speed            Manual   \n",
      "3          1st                 5    petrol      5-Speed            Manual   \n",
      "4          1st                 5    petrol      5-Speed            Manual   \n",
      "\n",
      "    Price  \n",
      "0  657000  \n",
      "1  682000  \n",
      "2  793000  \n",
      "3  414000  \n",
      "4  515000  \n",
      "       Unnamed: 0    Make_Year   Mileage_Run  Seating_Capacity         Price\n",
      "count  976.000000   976.000000    976.000000        976.000000  9.760000e+02\n",
      "mean   488.500000  2016.963115  41571.195697          5.095287  7.410195e+05\n",
      "std    281.891232     2.818742  24390.995134          0.446224  3.673234e+05\n",
      "min      1.000000  2011.000000   1117.000000          4.000000  1.880000e+05\n",
      "25%    244.750000  2015.000000  22676.750000          5.000000  4.757500e+05\n",
      "50%    488.500000  2017.000000  37570.500000          5.000000  6.665000e+05\n",
      "75%    732.250000  2019.000000  57421.250000          5.000000  8.830000e+05\n",
      "max    976.000000  2022.000000  99495.000000          8.000000  2.941000e+06\n",
      "(976, 12)\n",
      "Unnamed: 0           0\n",
      "Make                 0\n",
      "Make_Year            0\n",
      "Color                0\n",
      "Body_Type            0\n",
      "Mileage_Run          0\n",
      "No_of_Owners         0\n",
      "Seating_Capacity     0\n",
      "Fuel_Type            0\n",
      "Transmission         0\n",
      "Transmission_Type    0\n",
      "Price                0\n",
      "dtype: int64\n"
     ]
    }
   ],
   "source": [
    "sum_stats (cars)"
   ]
  },
  {
   "cell_type": "markdown",
   "metadata": {},
   "source": [
    "c.) Rename the Unamed column to ID and drop the old column"
   ]
  },
  {
   "cell_type": "code",
   "execution_count": 74,
   "metadata": {},
   "outputs": [],
   "source": [
    "cars['ID'] = cars['Unnamed: 0']\n",
    "cars.drop(columns=['Unnamed: 0'], inplace=True)"
   ]
  },
  {
   "cell_type": "markdown",
   "metadata": {},
   "source": [
    "d.) Create a histogram of the price and mileage run"
   ]
  },
  {
   "cell_type": "code",
   "execution_count": 75,
   "metadata": {},
   "outputs": [
    {
     "data": {
      "text/plain": [
       "(array([ 44., 184., 169., 173., 155.,  88.,  68.,  20.,  16.,   9.,  10.,\n",
       "         15.,  11.,  13.,   0.,   0.,   0.,   0.,   0.,   1.]),\n",
       " array([ 188000.,  325650.,  463300.,  600950.,  738600.,  876250.,\n",
       "        1013900., 1151550., 1289200., 1426850., 1564500., 1702150.,\n",
       "        1839800., 1977450., 2115100., 2252750., 2390400., 2528050.,\n",
       "        2665700., 2803350., 2941000.]),\n",
       " <BarContainer object of 20 artists>)"
      ]
     },
     "execution_count": 75,
     "metadata": {},
     "output_type": "execute_result"
    },
    {
     "data": {
      "image/png": "[encoded data removed]",
      "text/plain": [
       "<Figure size 432x288 with 1 Axes>"
      ]
     },
     "metadata": {
      "needs_background": "light"
     },
     "output_type": "display_data"
    }
   ],
   "source": [
    "plt.hist(cars.Price, bins=20)"
   ]
  },
  {
   "cell_type": "code",
   "execution_count": 76,
   "metadata": {},
   "outputs": [
    {
     "data": {
      "text/plain": [
       "(array([22., 59., 66., 74., 85., 84., 67., 69., 65., 63., 52., 41., 41.,\n",
       "        35., 41., 22., 23., 25., 22., 20.]),\n",
       " array([ 1117. ,  6035.9, 10954.8, 15873.7, 20792.6, 25711.5, 30630.4,\n",
       "        35549.3, 40468.2, 45387.1, 50306. , 55224.9, 60143.8, 65062.7,\n",
       "        69981.6, 74900.5, 79819.4, 84738.3, 89657.2, 94576.1, 99495. ]),\n",
       " <BarContainer object of 20 artists>)"
      ]
     },
     "execution_count": 76,
     "metadata": {},
     "output_type": "execute_result"
    },
    {
     "data": {
      "image/png": "[encoded data removed]",
      "text/plain": [
       "<Figure size 432x288 with 1 Axes>"
      ]
     },
     "metadata": {
      "needs_background": "light"
     },
     "output_type": "display_data"
    }
   ],
   "source": [
    "plt.hist(cars.Mileage_Run, bins=20)"
   ]
  },
  {
   "cell_type": "markdown",
   "metadata": {},
   "source": [
    "e.) Create boxplots of the categorical variables"
   ]
  },
  {
   "cell_type": "code",
   "execution_count": 77,
   "metadata": {},
   "outputs": [],
   "source": [
    "def boxplots (df, column):\n",
    "    df[column].value_counts().plot(kind='bar')\n",
    "    plt.title(f'Value Counts for {column}')\n",
    "    plt.show()"
   ]
  },
  {
   "cell_type": "code",
   "execution_count": 78,
   "metadata": {},
   "outputs": [
    {
     "data": {
      "image/png": "[encoded data removed]",
      "text/plain": [
       "<Figure size 432x288 with 1 Axes>"
      ]
     },
     "metadata": {
      "needs_background": "light"
     },
     "output_type": "display_data"
    },
    {
     "data": {
      "image/png": "[encoded data removed]",
      "text/plain": [
       "<Figure size 432x288 with 1 Axes>"
      ]
     },
     "metadata": {
      "needs_background": "light"
     },
     "output_type": "display_data"
    },
    {
     "data": {
      "image/png": "[encoded data removed]",
      "text/plain": [
       "<Figure size 432x288 with 1 Axes>"
      ]
     },
     "metadata": {
      "needs_background": "light"
     },
     "output_type": "display_data"
    },
    {
     "data": {
      "image/png": "[encoded data removed]",
      "text/plain": [
       "<Figure size 432x288 with 1 Axes>"
      ]
     },
     "metadata": {
      "needs_background": "light"
     },
     "output_type": "display_data"
    },
    {
     "data": {
      "image/png": "[encoded data removed]",
      "text/plain": [
       "<Figure size 432x288 with 1 Axes>"
      ]
     },
     "metadata": {
      "needs_background": "light"
     },
     "output_type": "display_data"
    },
    {
     "data": {
      "image/png": "[encoded data removed]",
      "text/plain": [
       "<Figure size 432x288 with 1 Axes>"
      ]
     },
     "metadata": {
      "needs_background": "light"
     },
     "output_type": "display_data"
    },
    {
     "data": {
      "image/png": "[encoded data removed]",
      "text/plain": [
       "<Figure size 432x288 with 1 Axes>"
      ]
     },
     "metadata": {
      "needs_background": "light"
     },
     "output_type": "display_data"
    },
    {
     "data": {
      "image/png": "[encoded data removed]",
      "text/plain": [
       "<Figure size 432x288 with 1 Axes>"
      ]
     },
     "metadata": {
      "needs_background": "light"
     },
     "output_type": "display_data"
    },
    {
     "data": {
      "image/png": "[encoded data removed]",
      "text/plain": [
       "<Figure size 432x288 with 1 Axes>"
      ]
     },
     "metadata": {
      "needs_background": "light"
     },
     "output_type": "display_data"
    }
   ],
   "source": [
    "# List of columns to plot\n",
    "columns = ['Make', 'Make_Year', 'Color', 'Body_Type',\n",
    "       'No_of_Owners', 'Seating_Capacity', 'Fuel_Type', 'Transmission',\n",
    "       'Transmission_Type']\n",
    "\n",
    "# Loop through each column and call the function\n",
    "for col in columns:\n",
    "    boxplots(cars, col)"
   ]
  },
  {
   "cell_type": "markdown",
   "metadata": {},
   "source": [
    "2.) Transform categorical variables"
   ]
  },
  {
   "cell_type": "code",
   "execution_count": 79,
   "metadata": {},
   "outputs": [],
   "source": [
    "cat_cols = ['Make', 'Color', 'Body_Type',\n",
    "       'No_of_Owners', 'Fuel_Type', 'Transmission',\n",
    "       'Transmission_Type']\n",
    "for col in cat_cols:\n",
    "    dummies = pd.get_dummies(cars[col], dtype='int', drop_first=False)\n",
    "    \n",
    "    cars = pd.concat([cars, dummies], axis=1)\n",
    "    \n",
    "    cars.drop(columns=[col], inplace=True)"
   ]
  },
  {
   "cell_type": "markdown",
   "metadata": {},
   "source": [
    "3.) Implement an 80/20 train-test split. Put the test data aside"
   ]
  },
  {
   "cell_type": "code",
   "execution_count": 80,
   "metadata": {},
   "outputs": [],
   "source": [
    "from sklearn.model_selection import train_test_split"
   ]
  },
  {
   "cell_type": "code",
   "execution_count": 81,
   "metadata": {},
   "outputs": [
    {
     "data": {
      "text/plain": [
       "Index(['Make_Year', 'Mileage_Run', 'Seating_Capacity', 'Price', 'ID',\n",
       "       'Chevrolet', 'Datsun', 'Ford', 'Honda', 'Hyundai', 'Jeep', 'Kia',\n",
       "       'MG Motors', 'Mahindra', 'Maruti Suzuki', 'Nissan', 'Renault', 'Skoda',\n",
       "       'Tata', 'Toyota', 'Volkswagen', 'beige', 'black', 'blue', 'bronze',\n",
       "       'brown', 'golden', 'green', 'grey', 'maroon', 'orange', 'purple', 'red',\n",
       "       'silver', 'white', 'yellow', 'crossover', 'hatchback', 'muv', 'sedan',\n",
       "       'suv', '1st', '2nd', '3rd', 'diesel', 'petrol', 'petrol+cng', '4-Speed',\n",
       "       '5-Speed', '6-Speed', '7-Speed', 'CVT', 'Automatic', 'Manual'],\n",
       "      dtype='object')"
      ]
     },
     "execution_count": 81,
     "metadata": {},
     "output_type": "execute_result"
    }
   ],
   "source": [
    "cars.columns"
   ]
  },
  {
   "cell_type": "code",
   "execution_count": 102,
   "metadata": {},
   "outputs": [],
   "source": [
    "y = cars['Price']\n",
    "x = cars.loc[:,['Make_Year', 'Mileage_Run', 'Seating_Capacity', 'Price', 'ID',\n",
    "       'Chevrolet', 'Datsun', 'Ford', 'Honda', 'Hyundai', 'Jeep', 'Kia',\n",
    "       'MG Motors', 'Mahindra', 'Maruti Suzuki', 'Nissan', 'Renault', 'Skoda',\n",
    "       'Tata', 'Toyota', 'Volkswagen', 'beige', 'black', 'blue', 'bronze',\n",
    "       'brown', 'golden', 'green', 'grey', 'maroon', 'orange', 'purple', 'red',\n",
    "       'silver', 'white', 'yellow', 'crossover', 'hatchback', 'muv', 'sedan',\n",
    "       'suv', '1st', '2nd', '3rd', 'diesel', 'petrol', 'petrol+cng', '4-Speed',\n",
    "       '5-Speed', '6-Speed', '7-Speed', 'CVT', 'Automatic', 'Manual']]"
   ]
  },
  {
   "cell_type": "code",
   "execution_count": 103,
   "metadata": {},
   "outputs": [],
   "source": [
    "x_train, x_test, y_train, y_test = train_test_split(x,y, test_size=.2, random_state=100)"
   ]
  },
  {
   "cell_type": "markdown",
   "metadata": {},
   "source": [
    "4.) Build some simple linear models that include no transformations or interactions. Fit them, and determine their RMSE and  𝑅2\n",
    "  on the both the training and test sets. Which of your models does the best?"
   ]
  },
  {
   "cell_type": "code",
   "execution_count": 113,
   "metadata": {},
   "outputs": [],
   "source": [
    "from sklearn import linear_model\n",
    "from sklearn.metrics import mean_squared_error, r2_score"
   ]
  },
  {
   "cell_type": "code",
   "execution_count": 105,
   "metadata": {},
   "outputs": [],
   "source": [
    "cars_2 = pd.read_csv(\"/Users/johnjordan/Desktop/DS 3001/cars_hw.csv\")"
   ]
  },
  {
   "cell_type": "code",
   "execution_count": 123,
   "metadata": {},
   "outputs": [],
   "source": [
    "x = cars_2[['Mileage_Run', 'Make_Year']]\n",
    "y = cars_2['Price']"
   ]
  },
  {
   "cell_type": "code",
   "execution_count": 124,
   "metadata": {},
   "outputs": [],
   "source": [
    "x_train, x_test, y_train, y_test = train_test_split(x,y, test_size=.2, random_state=100)"
   ]
  },
  {
   "cell_type": "code",
   "execution_count": 125,
   "metadata": {},
   "outputs": [],
   "source": [
    "reg = linear_model.LinearRegression(fit_intercept=True).fit(x_train,y_train)"
   ]
  },
  {
   "cell_type": "code",
   "execution_count": 126,
   "metadata": {},
   "outputs": [
    {
     "name": "stdout",
     "output_type": "stream",
     "text": [
      "Coefficients: [3.02392384e+00 8.25533493e+04]\n",
      "Intercept: -165895072.23235494\n",
      "Mean Squared Error: 92432542568.10547\n",
      "R-squared: 0.32682925706619126\n"
     ]
    }
   ],
   "source": [
    "y_pred = reg.predict(x_test)\n",
    "\n",
    "mse = mean_squared_error(y_test, y_pred)\n",
    "r2 = r2_score(y_test, y_pred)\n",
    "\n",
    "print(\"Coefficients:\", reg.coef_)\n",
    "print(\"Intercept:\", reg.intercept_)\n",
    "print(\"Mean Squared Error:\", mse)\n",
    "print(\"R-squared:\", r2)"
   ]
  },
  {
   "cell_type": "code",
   "execution_count": 127,
   "metadata": {},
   "outputs": [],
   "source": [
    "x = cars_2[['Make_Year', 'Seating_Capacity']]\n",
    "y = cars_2['Price']"
   ]
  },
  {
   "cell_type": "code",
   "execution_count": 128,
   "metadata": {},
   "outputs": [],
   "source": [
    "x_train, x_test, y_train, y_test = train_test_split(x,y, test_size=.2, random_state=100)"
   ]
  },
  {
   "cell_type": "code",
   "execution_count": 129,
   "metadata": {},
   "outputs": [],
   "source": [
    "reg = linear_model.LinearRegression(fit_intercept=True).fit(x_train,y_train)"
   ]
  },
  {
   "cell_type": "code",
   "execution_count": 130,
   "metadata": {},
   "outputs": [
    {
     "name": "stdout",
     "output_type": "stream",
     "text": [
      "Coefficients: [67554.43182645 72550.31222008]\n",
      "Intercept: -135887693.1852704\n",
      "Mean Squared Error: 97605644262.28581\n",
      "R-squared: 0.2891544229223867\n"
     ]
    }
   ],
   "source": [
    "y_pred = reg.predict(x_test)\n",
    "\n",
    "mse = mean_squared_error(y_test, y_pred)\n",
    "r2 = r2_score(y_test, y_pred)\n",
    "\n",
    "print(\"Coefficients:\", reg.coef_)\n",
    "print(\"Intercept:\", reg.intercept_)\n",
    "print(\"Mean Squared Error:\", mse)\n",
    "print(\"R-squared:\", r2)"
   ]
  },
  {
   "cell_type": "code",
   "execution_count": 131,
   "metadata": {},
   "outputs": [],
   "source": [
    "x = cars_2[['Mileage_Run', 'Seating_Capacity']]\n",
    "y = cars_2['Price']"
   ]
  },
  {
   "cell_type": "code",
   "execution_count": 132,
   "metadata": {},
   "outputs": [],
   "source": [
    "x_train, x_test, y_train, y_test = train_test_split(x,y, test_size=.2, random_state=100)"
   ]
  },
  {
   "cell_type": "code",
   "execution_count": 133,
   "metadata": {},
   "outputs": [],
   "source": [
    "reg = linear_model.LinearRegression(fit_intercept=True).fit(x_train,y_train)"
   ]
  },
  {
   "cell_type": "code",
   "execution_count": 134,
   "metadata": {},
   "outputs": [
    {
     "name": "stdout",
     "output_type": "stream",
     "text": [
      "Coefficients: [-2.75250167e+00  7.24151898e+04]\n",
      "Intercept: 483157.77575836796\n",
      "Mean Squared Error: 134686529655.89597\n",
      "R-squared: 0.019100538483712848\n"
     ]
    }
   ],
   "source": [
    "y_pred = reg.predict(x_test)\n",
    "\n",
    "mse = mean_squared_error(y_test, y_pred)\n",
    "r2 = r2_score(y_test, y_pred)\n",
    "\n",
    "print(\"Coefficients:\", reg.coef_)\n",
    "print(\"Intercept:\", reg.intercept_)\n",
    "print(\"Mean Squared Error:\", mse)\n",
    "print(\"R-squared:\", r2)"
   ]
  },
  {
   "cell_type": "markdown",
   "metadata": {},
   "source": [
    "The model with the Mileage and the Make year did better than the one with the make year and seating capacity and the one with the mileage and seating capacity."
   ]
  },
  {
   "cell_type": "markdown",
   "metadata": {},
   "source": [
    "5.) Include transformations and interactions, and build a more complex model that reflects your ideas about how the features of the asset determine its value. Determine its RMSE and  𝑅2\n",
    "  on the training and test sets. How does the more complex model your build compare to the simpler ones?"
   ]
  },
  {
   "cell_type": "code",
   "execution_count": 144,
   "metadata": {},
   "outputs": [],
   "source": [
    "y = cars['Price']\n",
    "x = cars.loc[:,['Make_Year', 'Mileage_Run', 'Seating_Capacity', 'Price', 'ID',\n",
    "       'Chevrolet', 'Datsun', 'Ford', 'Honda', 'Hyundai', 'Jeep', 'Kia',\n",
    "       'MG Motors', 'Mahindra', 'Maruti Suzuki', 'Nissan', 'Renault', 'Skoda',\n",
    "       'Tata', 'Toyota', 'Volkswagen', 'crossover', 'hatchback', 'muv', 'sedan',\n",
    "       'suv', '1st', '2nd', '3rd', '4-Speed',\n",
    "       '5-Speed', '6-Speed', '7-Speed', 'CVT', 'Automatic', 'Manual']]"
   ]
  },
  {
   "cell_type": "code",
   "execution_count": 145,
   "metadata": {},
   "outputs": [],
   "source": [
    "x_train, x_test, y_train, y_test = train_test_split(x,y, test_size=.2, random_state=100)"
   ]
  },
  {
   "cell_type": "code",
   "execution_count": 146,
   "metadata": {},
   "outputs": [],
   "source": [
    "reg = linear_model.LinearRegression(fit_intercept=True).fit(x_train,y_train)"
   ]
  },
  {
   "cell_type": "code",
   "execution_count": 147,
   "metadata": {},
   "outputs": [
    {
     "name": "stdout",
     "output_type": "stream",
     "text": [
      "Coefficients: [ 1.14931599e-10  4.63346506e-16  6.38485623e-11  1.00000000e+00\n",
      " -2.11171700e-15 -4.10262526e-11  1.47581576e-12  1.56618119e-11\n",
      "  2.65493471e-11  2.15964387e-11 -5.15312595e-12  5.71308054e-11\n",
      " -2.10596921e-10  2.02361348e-11  1.57966672e-11 -4.20796738e-12\n",
      "  2.51101669e-12  3.74724249e-11  1.23899885e-11  3.09443464e-11\n",
      "  1.92194789e-11 -1.27889257e-11 -1.05363140e-11 -1.68981870e-13\n",
      " -1.51166645e-12  2.50058847e-11  2.27534956e-12 -1.01274335e-12\n",
      " -1.26259672e-12 -4.43992297e-12  2.19875563e-11 -1.04117937e-11\n",
      "  6.10237735e-12 -1.32382200e-11  1.14129818e-11 -1.14129811e-11]\n",
      "Intercept: -2.3096799850463867e-07\n",
      "Mean Squared Error: 2.548748067868208e-19\n",
      "R-squared: 1.0\n"
     ]
    }
   ],
   "source": [
    "y_pred = reg.predict(x_test)\n",
    "\n",
    "mse = mean_squared_error(y_test, y_pred)\n",
    "r2 = r2_score(y_test, y_pred)\n",
    "\n",
    "print(\"Coefficients:\", reg.coef_)\n",
    "print(\"Intercept:\", reg.intercept_)\n",
    "print(\"Mean Squared Error:\", mse)\n",
    "print(\"R-squared:\", r2)"
   ]
  },
  {
   "cell_type": "markdown",
   "metadata": {},
   "source": [
    "The more complex model did significantly better than the simpler ones. However, I believe that this model may suffer from a decent amount of overfitting."
   ]
  },
  {
   "cell_type": "markdown",
   "metadata": {},
   "source": [
    "6.) Summarize your results from 1 to 5. Have you learned anything about overfitting and underfitting, or model selection?"
   ]
  },
  {
   "cell_type": "markdown",
   "metadata": {},
   "source": [
    "Honestly, the biggest thing that I learned from all of this was how one-hot encoding/dummy variables worked. Prior to this I had no real experience with any of it, especially in terms of building the actual model. While I do not feel I have done everything correctly, especially in terms of how to actually build the model after transforming the variables, I do feel that I have learned a decent amount about how over and underfitting works through the demonstrations of simple and complex models."
   ]
  },
  {
   "cell_type": "markdown",
   "metadata": {},
   "source": [
    "7.) If you have time, use the sklearn.linear_model.Lasso to regularize your model and select the most predictive features. Which does it select? What are the RMSE and  𝑅2\n",
    " ? We'll cover the Lasso later in detail in class"
   ]
  },
  {
   "cell_type": "code",
   "execution_count": 158,
   "metadata": {},
   "outputs": [],
   "source": [
    "from sklearn.feature_selection import SelectFromModel\n",
    "from sklearn.linear_model import LassoCV"
   ]
  },
  {
   "cell_type": "code",
   "execution_count": 150,
   "metadata": {},
   "outputs": [],
   "source": [
    "y = cars['Price']\n",
    "x = cars.loc[:,['Make_Year', 'Mileage_Run', 'Seating_Capacity', 'Price', 'ID',\n",
    "       'Chevrolet', 'Datsun', 'Ford', 'Honda', 'Hyundai', 'Jeep', 'Kia',\n",
    "       'MG Motors', 'Mahindra', 'Maruti Suzuki', 'Nissan', 'Renault', 'Skoda',\n",
    "       'Tata', 'Toyota', 'Volkswagen', 'beige', 'black', 'blue', 'bronze',\n",
    "       'brown', 'golden', 'green', 'grey', 'maroon', 'orange', 'purple', 'red',\n",
    "       'silver', 'white', 'yellow', 'crossover', 'hatchback', 'muv', 'sedan',\n",
    "       'suv', '1st', '2nd', '3rd', 'diesel', 'petrol', 'petrol+cng', '4-Speed',\n",
    "       '5-Speed', '6-Speed', '7-Speed', 'CVT', 'Automatic', 'Manual']]"
   ]
  },
  {
   "cell_type": "code",
   "execution_count": 151,
   "metadata": {},
   "outputs": [],
   "source": [
    "x_train, x_test, y_train, y_test = train_test_split(x,y, test_size=.2, random_state=100)"
   ]
  },
  {
   "cell_type": "code",
   "execution_count": 168,
   "metadata": {},
   "outputs": [
    {
     "data": {
      "text/plain": [
       "Lasso(alpha=0.1)"
      ]
     },
     "execution_count": 168,
     "metadata": {},
     "output_type": "execute_result"
    }
   ],
   "source": [
    "lasso = Lasso(alpha=0.1) \n",
    "\n",
    "# Fit the model to the training data\n",
    "lasso.fit(x_train, y_train) "
   ]
  },
  {
   "cell_type": "code",
   "execution_count": 170,
   "metadata": {},
   "outputs": [
    {
     "name": "stdout",
     "output_type": "stream",
     "text": [
      "Most predictive features:\n",
      "Price          1.000000e+00\n",
      "Mileage_Run    4.305973e-09\n",
      "dtype: float64\n"
     ]
    }
   ],
   "source": [
    "# Get feature coefficients\n",
    "coef = pd.Series(lasso.coef_, index=x.columns)\n",
    "\n",
    "# Print most predictive features\n",
    "print(\"Most predictive features:\")\n",
    "print(coef[coef != 0].sort_values(key=np.abs, ascending=False))"
   ]
  },
  {
   "cell_type": "markdown",
   "metadata": {},
   "source": [
    "The Lasso model choses just the Mileage_Run as the only feature in the best model"
   ]
  },
  {
   "cell_type": "code",
   "execution_count": 171,
   "metadata": {},
   "outputs": [
    {
     "name": "stdout",
     "output_type": "stream",
     "text": [
      "Coefficients: [ 0.00000000e+00  4.30597342e-09 -0.00000000e+00  1.00000000e+00\n",
      "  0.00000000e+00 -0.00000000e+00 -0.00000000e+00 -0.00000000e+00\n",
      "  0.00000000e+00 -0.00000000e+00 -0.00000000e+00  0.00000000e+00\n",
      " -0.00000000e+00 -0.00000000e+00  0.00000000e+00  0.00000000e+00\n",
      "  0.00000000e+00 -0.00000000e+00  0.00000000e+00  0.00000000e+00\n",
      " -0.00000000e+00 -0.00000000e+00 -0.00000000e+00  0.00000000e+00\n",
      "  0.00000000e+00 -0.00000000e+00  0.00000000e+00  0.00000000e+00\n",
      "  0.00000000e+00 -0.00000000e+00 -0.00000000e+00  0.00000000e+00\n",
      " -0.00000000e+00 -0.00000000e+00 -0.00000000e+00 -0.00000000e+00\n",
      " -0.00000000e+00  0.00000000e+00  0.00000000e+00 -0.00000000e+00\n",
      " -0.00000000e+00  0.00000000e+00 -0.00000000e+00 -0.00000000e+00\n",
      " -0.00000000e+00  0.00000000e+00  0.00000000e+00 -0.00000000e+00\n",
      "  0.00000000e+00 -0.00000000e+00  0.00000000e+00  0.00000000e+00\n",
      "  0.00000000e+00 -0.00000000e+00]\n",
      "Intercept: -0.00021454051602631807\n",
      "Mean Squared Error: 1.0597956455522074e-08\n",
      "R-squared: 1.0\n"
     ]
    }
   ],
   "source": [
    "y_pred = lasso.predict(x_test)\n",
    "\n",
    "mse = mean_squared_error(y_test, y_pred)\n",
    "r2 = r2_score(y_test, y_pred)\n",
    "\n",
    "print(\"Coefficients:\", lasso.coef_)\n",
    "print(\"Intercept:\", lasso.intercept_)\n",
    "print(\"Mean Squared Error:\", mse)\n",
    "print(\"R-squared:\", r2)"
   ]
  }
 ],
 "metadata": {
  "kernelspec": {
   "display_name": "Python 3",
   "language": "python",
   "name": "python3"
  },
  "language_info": {
   "codemirror_mode": {
    "name": "ipython",
    "version": 3
   },
   "file_extension": ".py",
   "mimetype": "text/x-python",
   "name": "python",
   "nbconvert_exporter": "python",
   "pygments_lexer": "ipython3",
   "version": "3.8.8"
  }
 },
 "nbformat": 4,
 "nbformat_minor": 2
}
